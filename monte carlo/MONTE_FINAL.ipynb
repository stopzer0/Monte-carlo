{
 "cells": [
  {
   "cell_type": "code",
   "execution_count": 22,
   "metadata": {},
   "outputs": [
    {
     "name": "stderr",
     "output_type": "stream",
     "text": [
      "1:1: E265 block comment should start with '# '\n",
      "1: E999 SyntaxError: invalid syntax\n",
      "3:1: E402 module level import not at top of file\n",
      "4:1: E402 module level import not at top of file\n",
      "5:1: E402 module level import not at top of file\n",
      "6:1: E402 module level import not at top of file\n",
      "7:1: E402 module level import not at top of file\n"
     ]
    }
   ],
   "source": [
    "import numpy as np\n",
    "import scipy.integrate as integrate\n",
    "import math\n",
    "import random\n",
    "import matplotlib.pyplot as plt\n",
    "# from IPython.display import clear_output\n",
    "PI = math.pi\n",
    "e = math.e\n",
    "num_samples = 10000\n",
    "\n",
    "\n",
    "# generovani nahodnych cisel v rozsahu min-max\n",
    "def get_rand_number(lower_bound, upper_bound):\n",
    "    interval = upper_bound - lower_bound\n",
    "    choice = random.uniform(0, 1)\n",
    "    return lower_bound + interval*choice\n",
    "\n",
    "\n",
    "# vysledek pomoci scipy pro porovnani\n",
    "def scipyResult():\n",
    "    return integrate.quad(f_of_x, 0, 5)\n",
    "\n",
    "\n",
    "# kdybychom chteli spocitat napr sinx/x\n",
    "# WARNING\n",
    "# je treba zmenit i g(x) jinak IS metoda nebude davat smysl\n",
    "# def f_of_x(x):\n",
    "#    return math.sin(x)/x\n",
    "\n",
    "def f_of_x(x):\n",
    "    return (e**(-1*x))/(1+(x-1)**2)\n",
    "\n",
    "\n",
    "# bereme nahodne body z daneho intervalu a v nich vyhodnocujeme funkci f\n",
    "# vysledek bereme jako prumer vsech  vynasobeny delkou intervalu\n",
    "def monte_carlo_basic(function, samples):\n",
    "    # dolni resp. horni meze integralu\n",
    "    l_bound = 0\n",
    "    r_bound = 5\n",
    "    sumSample = 0\n",
    "    for i in range(samples):\n",
    "        x = get_rand_number(l_bound, r_bound)\n",
    "        sumSample += function(x)\n",
    "    return (r_bound - l_bound) * (sumSample / samples)\n",
    "\n"
   ]
  },
  {
   "cell_type": "code",
   "execution_count": 23,
   "metadata": {},
   "outputs": [
    {
     "name": "stdout",
     "output_type": "stream",
     "text": [
      "Optimal alpha: 1.6500000000000001\n",
      "Optimal Variance: 0.045320580309860525\n",
      "0.002128863084133419\n"
     ]
    },
    {
     "name": "stderr",
     "output_type": "stream",
     "text": [
      "33:80: E501 line too long (106 > 79 characters)\n",
      "57:1: E302 expected 2 blank lines, found 1\n",
      "62:80: E501 line too long (102 > 79 characters)\n"
     ]
    }
   ],
   "source": [
    "# funkce g pro IS\n",
    "def g_of_x(x, A, alpha):\n",
    "    return A*math.pow(e, -1*alpha*x)\n",
    "\n",
    "\n",
    "def inverse_G_of_r(r, alpha):\n",
    "    return (-1 * math.log(r))/alpha\n",
    "\n",
    "\n",
    "# variance pro Importance sampling o^2 = 1/N*sum(f^2/g^2) - [1/N*sum(f/g)]^2\n",
    "def get_IS_variance(alpha, num_samples):\n",
    "    A = alpha\n",
    "    int_max = 5\n",
    "\n",
    "    # get sum of squares <I^2>\n",
    "    sum1 = 0\n",
    "    for i in range(num_samples):\n",
    "        x = get_rand_number(0, int_max)\n",
    "        sum1 += (f_of_x(x)/g_of_x(x, A, alpha))**2\n",
    "\n",
    "    sum_of_sqs = sum1 / num_samples\n",
    "\n",
    "    # get squared average <I>^2\n",
    "    sum2 = 0\n",
    "    for i in range(num_samples):\n",
    "        x = get_rand_number(0, int_max)\n",
    "        sum2 += f_of_x(x)/g_of_x(x, A, alpha)\n",
    "    sq_ave = (sum2/num_samples)**2\n",
    "\n",
    "    return sum_of_sqs - sq_ave\n",
    "\n",
    "\n",
    "# vytvorime si pole alphas a pro kazdou spocitame varianci, pote najdeme tu nejlepsi = s nejmensi varianci\n",
    "# test_alphas = 0.05*np.arange(1, 61)\n",
    "# variances = [get_IS_variance(alpha, num_samples) for alhpa in test_alphas]\n",
    "test_lamdas = [i*0.05 for i in range(1, 61)]\n",
    "variances = []\n",
    "\n",
    "# pro kazde alpha pocitame varianci\n",
    "for i, alpha in enumerate(test_alphas):\n",
    "    # kdybychom nahodou chteli vypsat kazde alpha\n",
    "    # print(f\"lambda {i+1}/{len(test_lamdas)}: {lamda}\")\n",
    "    variances.append(get_IS_variance(alpha, 10000))\n",
    "    # clear_output(wait=True)\n",
    "\n",
    "# Najdeme optimalni alpha jako tu s nejmensi varianci\n",
    "optimal_alpha = test_alphas[np.argmin(np.asarray(variances))]\n",
    "# jeji variance\n",
    "IS_variance = variances[np.argmin(np.asarray(variances))]\n",
    "\n",
    "print(f\"Optimal alpha: {optimal_alpha}\")\n",
    "print(f\"Optimal Variance: {IS_variance}\")\n",
    "print((IS_variance/10000)**0.5)\n",
    "\n",
    "# Monte Carlo Importance Sampling\n",
    "# I~1/N*sum(f(G^-1)/g(G^-1)\n",
    "def importance_sampling_MC(function, alpha, num_samples):\n",
    "    A = alpha\n",
    "    running_total = 0\n",
    "    for i in range(num_samples):\n",
    "        r = get_rand_number(0, 1)\n",
    "        running_total += function(inverse_G_of_r(r, alpha))/g_of_x(inverse_G_of_r(r, alpha), A, alpha)\n",
    "    approximation = (running_total/num_samples)\n",
    "    return approximation\n",
    "\n"
   ]
  },
  {
   "cell_type": "code",
   "execution_count": 24,
   "metadata": {},
   "outputs": [
    {
     "name": "stdout",
     "output_type": "stream",
     "text": [
      "Scipy vysledek: (0.6958109540407915, 5.081940164197806e-14)\n",
      "Monte Carlo s nahodnym vyberem: 0.6991324406253997\n",
      "Monte Carlo - Importance Sampling : 0.6923318047839231\n",
      "Variance Importance Sampling: 0.04690716296061237\n",
      "Error Importance Sampling: 0.0021658061538515484\n"
     ]
    },
    {
     "data": {
      "text/plain": [
       "[<matplotlib.lines.Line2D at 0x26838512a58>]"
      ]
     },
     "execution_count": 24,
     "metadata": {},
     "output_type": "execute_result"
    },
    {
     "data": {
      "image/png": "[encoded data removed]",
      "text/plain": [
       "<Figure size 432x288 with 1 Axes>"
      ]
     },
     "metadata": {
      "needs_background": "light"
     },
     "output_type": "display_data"
    },
    {
     "name": "stderr",
     "output_type": "stream",
     "text": [
      "8:80: E501 line too long (81 > 79 characters)\n",
      "9:80: E501 line too long (99 > 79 characters)\n",
      "13:1: E265 block comment should start with '# '\n"
     ]
    }
   ],
   "source": [
    "# run simulation\n",
    "num_samples = 10000\n",
    "approx = importance_sampling_MC(f_of_x, optimal_alpha, num_samples)\n",
    "variance = get_IS_variance(optimal_alpha, num_samples)\n",
    "error = (variance/num_samples)**0.5\n",
    "\n",
    "print(f\"Scipy vysledek: {scipyResult()}\")\n",
    "print(f\"Monte Carlo s nahodnym vyberem: {monte_carlo_basic(f_of_x,num_samples)}\")\n",
    "print(f\"Monte Carlo - Importance Sampling : {importance_sampling_MC(f_of_x, approx, num_samples)}\")\n",
    "print(f\"Variance Importance Sampling: {variance}\")\n",
    "print(f\"Error Importance Sampling: {error}\")\n",
    "\n",
    "# graf zadane fce\n",
    "x = np.linspace(0.2 * PI, 100)\n",
    "plt.plot(x, f_of_x(x), c=\"red\")"
   ]
  },
  {
   "cell_type": "code",
   "execution_count": null,
   "metadata": {},
   "outputs": [],
   "source": []
  }
 ],
 "metadata": {
  "kernelspec": {
   "display_name": "Python 3",
   "language": "python",
   "name": "python3"
  },
  "language_info": {
   "codemirror_mode": {
    "name": "ipython",
    "version": 3
   },
   "file_extension": ".py",
   "mimetype": "text/x-python",
   "name": "python",
   "nbconvert_exporter": "python",
   "pygments_lexer": "ipython3",
   "version": "3.7.3"
  }
 },
 "nbformat": 4,
 "nbformat_minor": 2
}
